{
 "cells": [
  {
   "cell_type": "code",
   "execution_count": 27,
   "id": "4b6f42f2",
   "metadata": {},
   "outputs": [
    {
     "name": "stdout",
     "output_type": "stream",
     "text": [
      "Output//MI2.MI_SPLIT_DEAL_VS_MI2.MI_SPLIT_DEAL.csv\n",
      "Output//MI2.MI_TRACK_FOCUS_INCLUDE_VS_MI2.MI_TRACK_FOCUS_INCLUDE.csv\n",
      "['Output//MI2.MI_SPLIT_DEAL_VS_MI2.MI_SPLIT_DEAL.csv', 'Output//MI2.MI_TRACK_FOCUS_INCLUDE_VS_MI2.MI_TRACK_FOCUS_INCLUDE.csv']\n"
     ]
    }
   ],
   "source": [
    "_ip_file = r'./input_directory_csv/Main.csv'\n",
    "_op_dir = r'Output/'\n",
    "import pandas as pd\n",
    "_ipdf = pd.read_csv(_ip_file)\n",
    "_compare_files = ['_VS_'.join(x) for x in _ipdf[(_ipdf.COMPARE_NEEDED == 'YES')][[\"ORA_TABLE_NAME\",\"PG_TABLE_NAME\"]].values]\n",
    "_compare_files = [x+'.csv' for x in _compare_files]\n",
    "#check file exists\n",
    "import os\n",
    "_list_file_found=[]\n",
    "for file in _compare_files:\n",
    "    if os.path.exists(_op_dir+'/'+file):\n",
    "        _list_file_found.append(_op_dir+'/'+file)\n"
   ]
  },
  {
   "cell_type": "code",
   "execution_count": null,
   "id": "d87ff5aa",
   "metadata": {},
   "outputs": [],
   "source": []
  }
 ],
 "metadata": {
  "kernelspec": {
   "display_name": "Python 3 (ipykernel)",
   "language": "python",
   "name": "python3"
  },
  "language_info": {
   "codemirror_mode": {
    "name": "ipython",
    "version": 3
   },
   "file_extension": ".py",
   "mimetype": "text/x-python",
   "name": "python",
   "nbconvert_exporter": "python",
   "pygments_lexer": "ipython3",
   "version": "3.9.7"
  }
 },
 "nbformat": 4,
 "nbformat_minor": 5
}
